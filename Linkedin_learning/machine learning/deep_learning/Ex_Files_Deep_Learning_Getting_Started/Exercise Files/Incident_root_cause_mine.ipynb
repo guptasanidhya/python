{
 "cells": [
  {
   "cell_type": "markdown",
   "id": "8a5d3239",
   "metadata": {},
   "source": [
    "# Incident Root Cause Analysis¶\n",
    "Incident Reports in ITOps usually states the symptoms. Identifying the root cause of the symptom quickly is a key determinant to reducing resolution times and improving user satisfaction."
   ]
  },
  {
   "cell_type": "markdown",
   "id": "a8dd4838",
   "metadata": {},
   "source": [
    "06.02. Preprocessing Incident Data\n",
    "Loading the Dataset¶"
   ]
  },
  {
   "cell_type": "code",
   "execution_count": 9,
   "id": "ee18b878",
   "metadata": {},
   "outputs": [
    {
     "name": "stdout",
     "output_type": "stream",
     "text": [
      "ID                   int64\n",
      "CPU_LOAD             int64\n",
      "MEMORY_LEAK_LOAD     int64\n",
      "DELAY                int64\n",
      "ERROR_1000           int64\n",
      "ERROR_1001           int64\n",
      "ERROR_1002           int64\n",
      "ERROR_1003           int64\n",
      "ROOT_CAUSE          object\n",
      "dtype: object\n"
     ]
    },
    {
     "data": {
      "text/html": [
       "<div>\n",
       "<style scoped>\n",
       "    .dataframe tbody tr th:only-of-type {\n",
       "        vertical-align: middle;\n",
       "    }\n",
       "\n",
       "    .dataframe tbody tr th {\n",
       "        vertical-align: top;\n",
       "    }\n",
       "\n",
       "    .dataframe thead th {\n",
       "        text-align: right;\n",
       "    }\n",
       "</style>\n",
       "<table border=\"1\" class=\"dataframe\">\n",
       "  <thead>\n",
       "    <tr style=\"text-align: right;\">\n",
       "      <th></th>\n",
       "      <th>ID</th>\n",
       "      <th>CPU_LOAD</th>\n",
       "      <th>MEMORY_LEAK_LOAD</th>\n",
       "      <th>DELAY</th>\n",
       "      <th>ERROR_1000</th>\n",
       "      <th>ERROR_1001</th>\n",
       "      <th>ERROR_1002</th>\n",
       "      <th>ERROR_1003</th>\n",
       "      <th>ROOT_CAUSE</th>\n",
       "    </tr>\n",
       "  </thead>\n",
       "  <tbody>\n",
       "    <tr>\n",
       "      <th>0</th>\n",
       "      <td>1</td>\n",
       "      <td>0</td>\n",
       "      <td>0</td>\n",
       "      <td>0</td>\n",
       "      <td>0</td>\n",
       "      <td>1</td>\n",
       "      <td>0</td>\n",
       "      <td>1</td>\n",
       "      <td>MEMORY_LEAK</td>\n",
       "    </tr>\n",
       "    <tr>\n",
       "      <th>1</th>\n",
       "      <td>2</td>\n",
       "      <td>0</td>\n",
       "      <td>0</td>\n",
       "      <td>0</td>\n",
       "      <td>0</td>\n",
       "      <td>0</td>\n",
       "      <td>0</td>\n",
       "      <td>1</td>\n",
       "      <td>MEMORY_LEAK</td>\n",
       "    </tr>\n",
       "    <tr>\n",
       "      <th>2</th>\n",
       "      <td>3</td>\n",
       "      <td>0</td>\n",
       "      <td>1</td>\n",
       "      <td>1</td>\n",
       "      <td>0</td>\n",
       "      <td>0</td>\n",
       "      <td>1</td>\n",
       "      <td>1</td>\n",
       "      <td>MEMORY_LEAK</td>\n",
       "    </tr>\n",
       "    <tr>\n",
       "      <th>3</th>\n",
       "      <td>4</td>\n",
       "      <td>0</td>\n",
       "      <td>1</td>\n",
       "      <td>0</td>\n",
       "      <td>1</td>\n",
       "      <td>1</td>\n",
       "      <td>0</td>\n",
       "      <td>1</td>\n",
       "      <td>MEMORY_LEAK</td>\n",
       "    </tr>\n",
       "    <tr>\n",
       "      <th>4</th>\n",
       "      <td>5</td>\n",
       "      <td>1</td>\n",
       "      <td>1</td>\n",
       "      <td>0</td>\n",
       "      <td>1</td>\n",
       "      <td>0</td>\n",
       "      <td>1</td>\n",
       "      <td>0</td>\n",
       "      <td>NETWORK_DELAY</td>\n",
       "    </tr>\n",
       "  </tbody>\n",
       "</table>\n",
       "</div>"
      ],
      "text/plain": [
       "   ID  CPU_LOAD  MEMORY_LEAK_LOAD  DELAY  ERROR_1000  ERROR_1001  ERROR_1002   \n",
       "0   1         0                 0      0           0           1           0  \\\n",
       "1   2         0                 0      0           0           0           0   \n",
       "2   3         0                 1      1           0           0           1   \n",
       "3   4         0                 1      0           1           1           0   \n",
       "4   5         1                 1      0           1           0           1   \n",
       "\n",
       "   ERROR_1003     ROOT_CAUSE  \n",
       "0           1    MEMORY_LEAK  \n",
       "1           1    MEMORY_LEAK  \n",
       "2           1    MEMORY_LEAK  \n",
       "3           1    MEMORY_LEAK  \n",
       "4           0  NETWORK_DELAY  "
      ]
     },
     "execution_count": 9,
     "metadata": {},
     "output_type": "execute_result"
    }
   ],
   "source": [
    "import pandas as pd\n",
    "import os\n",
    "import tensorflow as tf\n",
    "\n",
    "#Load the data file into a Pandas Dataframe\n",
    "symptom_data = pd.read_csv(\"root_cause_analysis.csv\")\n",
    "\n",
    "#Explore the data loaded\n",
    "print(symptom_data.dtypes)\n",
    "symptom_data.head()"
   ]
  },
  {
   "cell_type": "markdown",
   "id": "ed7dbfc3",
   "metadata": {},
   "source": [
    "Convert data\n",
    "Input data needs to be converted to formats that can be consumed by ML algorithms"
   ]
  },
  {
   "cell_type": "code",
   "execution_count": 3,
   "id": "7ab863bf",
   "metadata": {},
   "outputs": [
    {
     "name": "stdout",
     "output_type": "stream",
     "text": [
      "Shape of feature variables : (900, 7)\n",
      "Shape of target variable : (900, 3)\n"
     ]
    }
   ],
   "source": [
    "from sklearn import preprocessing\n",
    "from sklearn.model_selection import train_test_split\n",
    "\n",
    "label_encoder = preprocessing.LabelEncoder()\n",
    "symptom_data['ROOT_CAUSE'] = label_encoder.fit_transform(\n",
    "                                symptom_data['ROOT_CAUSE'])\n",
    "\n",
    "#Convert Pandas DataFrame to a numpy vector\n",
    "np_symptom = symptom_data.to_numpy().astype(float)\n",
    "\n",
    "#Extract the feature variables (X)\n",
    "X_data = np_symptom[:,1:8]\n",
    "\n",
    "#Extract the target variable (Y), conver to one-hot-encodign\n",
    "Y_data=np_symptom[:,8]\n",
    "Y_data = tf.keras.utils.to_categorical(Y_data,3)\n",
    "\n",
    "#Split training and test data\n",
    "X_train,X_test,Y_train,Y_test = train_test_split( X_data, Y_data, test_size=0.10)\n",
    "\n",
    "print(\"Shape of feature variables :\", X_train.shape)\n",
    "print(\"Shape of target variable :\",Y_train.shape)"
   ]
  },
  {
   "cell_type": "markdown",
   "id": "cbd0236b",
   "metadata": {},
   "source": [
    "06.03. Building and evaluating the model\n"
   ]
  },
  {
   "cell_type": "code",
   "execution_count": 4,
   "id": "259d4377",
   "metadata": {},
   "outputs": [
    {
     "name": "stdout",
     "output_type": "stream",
     "text": [
      "Model: \"sequential\"\n",
      "_________________________________________________________________\n",
      " Layer (type)                Output Shape              Param #   \n",
      "=================================================================\n",
      " Dense-Layer-1 (Dense)       (None, 128)               1024      \n",
      "                                                                 \n",
      " Dense-Layer-2 (Dense)       (None, 128)               16512     \n",
      "                                                                 \n",
      " Final (Dense)               (None, 3)                 387       \n",
      "                                                                 \n",
      "=================================================================\n",
      "Total params: 17,923\n",
      "Trainable params: 17,923\n",
      "Non-trainable params: 0\n",
      "_________________________________________________________________\n",
      "Epoch 1/20\n",
      "12/12 [==============================] - 2s 47ms/step - loss: 0.8727 - accuracy: 0.7417 - val_loss: 0.6778 - val_accuracy: 0.7889\n",
      "Epoch 2/20\n",
      "12/12 [==============================] - 0s 13ms/step - loss: 0.6211 - accuracy: 0.8083 - val_loss: 0.5673 - val_accuracy: 0.8000\n",
      "Epoch 3/20\n",
      "12/12 [==============================] - 0s 13ms/step - loss: 0.5236 - accuracy: 0.8028 - val_loss: 0.5329 - val_accuracy: 0.7833\n",
      "Epoch 4/20\n",
      "12/12 [==============================] - 0s 13ms/step - loss: 0.4809 - accuracy: 0.8222 - val_loss: 0.5117 - val_accuracy: 0.8111\n",
      "Epoch 5/20\n",
      "12/12 [==============================] - 0s 13ms/step - loss: 0.4618 - accuracy: 0.8181 - val_loss: 0.5071 - val_accuracy: 0.8222\n",
      "Epoch 6/20\n",
      "12/12 [==============================] - 0s 12ms/step - loss: 0.4529 - accuracy: 0.8250 - val_loss: 0.5038 - val_accuracy: 0.7944\n",
      "Epoch 7/20\n",
      "12/12 [==============================] - 0s 11ms/step - loss: 0.4441 - accuracy: 0.8292 - val_loss: 0.4955 - val_accuracy: 0.8111\n",
      "Epoch 8/20\n",
      "12/12 [==============================] - 0s 13ms/step - loss: 0.4349 - accuracy: 0.8347 - val_loss: 0.5033 - val_accuracy: 0.8278\n",
      "Epoch 9/20\n",
      "12/12 [==============================] - 0s 13ms/step - loss: 0.4321 - accuracy: 0.8333 - val_loss: 0.4836 - val_accuracy: 0.8222\n",
      "Epoch 10/20\n",
      "12/12 [==============================] - 0s 12ms/step - loss: 0.4292 - accuracy: 0.8375 - val_loss: 0.5125 - val_accuracy: 0.8000\n",
      "Epoch 11/20\n",
      "12/12 [==============================] - 0s 12ms/step - loss: 0.4218 - accuracy: 0.8444 - val_loss: 0.4853 - val_accuracy: 0.8278\n",
      "Epoch 12/20\n",
      "12/12 [==============================] - 0s 12ms/step - loss: 0.4153 - accuracy: 0.8444 - val_loss: 0.4800 - val_accuracy: 0.8167\n",
      "Epoch 13/20\n",
      "12/12 [==============================] - 0s 12ms/step - loss: 0.4141 - accuracy: 0.8417 - val_loss: 0.5025 - val_accuracy: 0.8278\n",
      "Epoch 14/20\n",
      "12/12 [==============================] - 0s 12ms/step - loss: 0.4068 - accuracy: 0.8444 - val_loss: 0.5214 - val_accuracy: 0.7778\n",
      "Epoch 15/20\n",
      "12/12 [==============================] - 0s 11ms/step - loss: 0.4093 - accuracy: 0.8486 - val_loss: 0.4831 - val_accuracy: 0.8167\n",
      "Epoch 16/20\n",
      "12/12 [==============================] - 0s 11ms/step - loss: 0.4014 - accuracy: 0.8542 - val_loss: 0.5210 - val_accuracy: 0.7944\n",
      "Epoch 17/20\n",
      "12/12 [==============================] - 0s 12ms/step - loss: 0.3958 - accuracy: 0.8514 - val_loss: 0.4823 - val_accuracy: 0.8333\n",
      "Epoch 18/20\n",
      "12/12 [==============================] - 0s 12ms/step - loss: 0.3881 - accuracy: 0.8486 - val_loss: 0.5106 - val_accuracy: 0.8111\n",
      "Epoch 19/20\n",
      "12/12 [==============================] - 0s 12ms/step - loss: 0.3904 - accuracy: 0.8458 - val_loss: 0.4793 - val_accuracy: 0.8167\n",
      "Epoch 20/20\n",
      "12/12 [==============================] - 0s 12ms/step - loss: 0.3863 - accuracy: 0.8417 - val_loss: 0.4901 - val_accuracy: 0.7889\n",
      "\n",
      "Evaluation against Test Dataset :\n",
      "------------------------------------\n",
      "4/4 [==============================] - 0s 5ms/step - loss: 0.3290 - accuracy: 0.8900\n"
     ]
    },
    {
     "data": {
      "text/plain": [
       "[0.3289654850959778, 0.8899999856948853]"
      ]
     },
     "execution_count": 4,
     "metadata": {},
     "output_type": "execute_result"
    }
   ],
   "source": [
    "from tensorflow import keras\n",
    "from tensorflow.keras import optimizers\n",
    "from tensorflow.keras.regularizers import l2\n",
    "\n",
    "#Setup Training Parameters\n",
    "EPOCHS=20\n",
    "BATCH_SIZE=64\n",
    "VERBOSE=1\n",
    "OUTPUT_CLASSES=len(label_encoder.classes_)\n",
    "N_HIDDEN=128\n",
    "VALIDATION_SPLIT=0.2\n",
    "\n",
    "#Create a Keras sequential model\n",
    "model = tf.keras.models.Sequential()\n",
    "#Add a Dense Layer\n",
    "model.add(keras.layers.Dense(N_HIDDEN,\n",
    "                             input_shape=(7,),\n",
    "                              name='Dense-Layer-1',\n",
    "                              activation='relu'))\n",
    "\n",
    "#Add a second dense layer\n",
    "model.add(keras.layers.Dense(N_HIDDEN,\n",
    "                              name='Dense-Layer-2',\n",
    "                              activation='relu'))\n",
    "\n",
    "#Add a softmax layer for categorial prediction\n",
    "model.add(keras.layers.Dense(OUTPUT_CLASSES,\n",
    "                             name='Final',\n",
    "                             activation='softmax'))\n",
    "\n",
    "#Compile the model\n",
    "model.compile(\n",
    "              loss='categorical_crossentropy',\n",
    "              metrics=['accuracy'])\n",
    "\n",
    "\n",
    "model.summary()\n",
    "\n",
    "#Build the model\n",
    "model.fit(X_train,\n",
    "          Y_train,\n",
    "          batch_size=BATCH_SIZE,\n",
    "          epochs=EPOCHS,\n",
    "          verbose=VERBOSE,\n",
    "          validation_split=VALIDATION_SPLIT)\n",
    "\n",
    "\n",
    "#Evaluate the model against the test dataset and print results\n",
    "print(\"\\nEvaluation against Test Dataset :\\n------------------------------------\")\n",
    "model.evaluate(X_test,Y_test)"
   ]
  },
  {
   "cell_type": "markdown",
   "id": "a96d5dcf",
   "metadata": {},
   "source": [
    "06.04. Predicting Root Causes\n"
   ]
  },
  {
   "cell_type": "code",
   "execution_count": 5,
   "id": "7315f169",
   "metadata": {},
   "outputs": [
    {
     "name": "stdout",
     "output_type": "stream",
     "text": [
      "1/1 [==============================] - 0s 236ms/step\n",
      "['DATABASE_ISSUE']\n"
     ]
    }
   ],
   "source": [
    "#Pass individual flags to Predict the root cause\n",
    "import numpy as np\n",
    "\n",
    "CPU_LOAD=1\n",
    "MEMORY_LOAD=0\n",
    "DELAY=0\n",
    "ERROR_1000=0\n",
    "ERROR_1001=1\n",
    "ERROR_1002=1\n",
    "ERROR_1003=0\n",
    "\n",
    "prediction=np.argmax(model.predict(\n",
    "    [[CPU_LOAD,MEMORY_LOAD,DELAY,\n",
    "      ERROR_1000,ERROR_1001,ERROR_1002,ERROR_1003]]), axis=1 )\n",
    "\n",
    "print(label_encoder.inverse_transform(prediction))\n"
   ]
  },
  {
   "cell_type": "code",
   "execution_count": 8,
   "id": "6e9a668a",
   "metadata": {},
   "outputs": [
    {
     "name": "stdout",
     "output_type": "stream",
     "text": [
      "1/1 [==============================] - 0s 83ms/step\n",
      "[0 0 0]\n",
      "['DATABASE_ISSUE' 'DATABASE_ISSUE' 'DATABASE_ISSUE']\n"
     ]
    }
   ],
   "source": [
    "#axis 0 for column axis 1 for row \n",
    "prediction=np.argmax(model.predict(\n",
    "    [[CPU_LOAD,MEMORY_LOAD,DELAY,\n",
    "ERROR_1000,ERROR_1001,ERROR_1002,ERROR_1003]]), axis=0 )\n",
    "\n",
    "print(prediction)\n",
    "\n",
    "print(label_encoder.inverse_transform(prediction))"
   ]
  },
  {
   "cell_type": "code",
   "execution_count": 6,
   "id": "c1ad2626",
   "metadata": {},
   "outputs": [
    {
     "name": "stdout",
     "output_type": "stream",
     "text": [
      "1/1 [==============================] - 0s 94ms/step\n",
      "['DATABASE_ISSUE' 'NETWORK_DELAY' 'MEMORY_LEAK' 'DATABASE_ISSUE'\n",
      " 'DATABASE_ISSUE']\n"
     ]
    }
   ],
   "source": [
    "#Predicting as a Batch\n",
    "print(label_encoder.inverse_transform(np.argmax(\n",
    "        model.predict([[1,0,0,0,1,1,0],\n",
    "                                [0,1,1,1,0,0,0],\n",
    "                                [1,1,0,1,1,0,1],\n",
    "                                [0,0,0,0,0,1,0],\n",
    "                                [1,0,1,0,1,1,1]]), axis=1 )))"
   ]
  },
  {
   "cell_type": "code",
   "execution_count": 11,
   "id": "ae51a5c5",
   "metadata": {},
   "outputs": [
    {
     "name": "stderr",
     "output_type": "stream",
     "text": [
      "WARNING:absl:Function `_wrapped_model` contains input name(s) Dense-Layer-1_input with unsupported characters which will be renamed to dense_layer_1_input in the SavedModel.\n",
      "WARNING:absl:`Dense-Layer-1_input` is not a valid tf.function parameter name. Sanitizing to `Dense_Layer_1_input`.\n",
      "WARNING:absl:`Dense-Layer-1_input` is not a valid tf.function parameter name. Sanitizing to `Dense_Layer_1_input`.\n",
      "WARNING:absl:Found untraced functions such as _update_step_xla while saving (showing 1 of 1). These functions will not be directly callable after loading.\n"
     ]
    },
    {
     "name": "stdout",
     "output_type": "stream",
     "text": [
      "INFO:tensorflow:Assets written to: incident_save\\assets\n"
     ]
    },
    {
     "name": "stderr",
     "output_type": "stream",
     "text": [
      "INFO:tensorflow:Assets written to: incident_save\\assets\n"
     ]
    },
    {
     "name": "stdout",
     "output_type": "stream",
     "text": [
      "Model: \"sequential\"\n",
      "_________________________________________________________________\n",
      " Layer (type)                Output Shape              Param #   \n",
      "=================================================================\n",
      " Dense-Layer-1 (Dense)       (None, 128)               1024      \n",
      "                                                                 \n",
      " Dense-Layer-2 (Dense)       (None, 128)               16512     \n",
      "                                                                 \n",
      " Final (Dense)               (None, 3)                 387       \n",
      "                                                                 \n",
      "=================================================================\n",
      "Total params: 17,923\n",
      "Trainable params: 17,923\n",
      "Non-trainable params: 0\n",
      "_________________________________________________________________\n"
     ]
    }
   ],
   "source": [
    "#Saving a model\n",
    "    \n",
    "model.save(\"incident_save\")\n",
    "    \n",
    "#Loading a Model \n",
    "loaded_model = keras.models.load_model(\"incident_save\")\n",
    "\n",
    "#Print Model Summary\n",
    "loaded_model.summary()\n"
   ]
  }
 ],
 "metadata": {
  "kernelspec": {
   "display_name": "Python 3 (ipykernel)",
   "language": "python",
   "name": "python3"
  },
  "language_info": {
   "codemirror_mode": {
    "name": "ipython",
    "version": 3
   },
   "file_extension": ".py",
   "mimetype": "text/x-python",
   "name": "python",
   "nbconvert_exporter": "python",
   "pygments_lexer": "ipython3",
   "version": "3.10.10"
  }
 },
 "nbformat": 4,
 "nbformat_minor": 5
}
