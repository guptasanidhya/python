{
 "cells": [
  {
   "cell_type": "markdown",
   "id": "61d70732",
   "metadata": {},
   "source": [
    "# Deep Learning Example - Iris\n",
    "This examples demonstrates the core deep learning model building concepts using the Keras library. The Iris flower dataset is used to build the model and perform classification tasks"
   ]
  },
  {
   "cell_type": "markdown",
   "id": "5c8efb67",
   "metadata": {},
   "source": [
    "# 5.1 Setup"
   ]
  },
  {
   "cell_type": "markdown",
   "id": "2022d71e",
   "metadata": {},
   "source": [
    "4.2. Prepare Input Data for Deep Learning\n",
    "Perform the following steps for preparing data\n",
    "\n",
    "Load data into a pandas dataframe\n",
    "Convert the dataframe to a numpy array\n",
    "Scale the feature dataset\n",
    "Use one-hot-encoding for the target variable\n",
    "Split into training and test datasets"
   ]
  },
  {
   "cell_type": "code",
   "execution_count": 5,
   "id": "a659f5ff",
   "metadata": {},
   "outputs": [
    {
     "name": "stdout",
     "output_type": "stream",
     "text": [
      "Requirement already satisfied: pandas in c:\\users\\hp\\anaconda3\\envs\\deeplearning\\lib\\site-packages (2.0.0)\n",
      "Requirement already satisfied: numpy>=1.21.0 in c:\\users\\hp\\anaconda3\\envs\\deeplearning\\lib\\site-packages (from pandas) (1.23.5)\n",
      "Requirement already satisfied: python-dateutil>=2.8.2 in c:\\users\\hp\\anaconda3\\envs\\deeplearning\\lib\\site-packages (from pandas) (2.8.2)\n",
      "Requirement already satisfied: pytz>=2020.1 in c:\\users\\hp\\anaconda3\\envs\\deeplearning\\lib\\site-packages (from pandas) (2023.3)\n",
      "Requirement already satisfied: tzdata>=2022.1 in c:\\users\\hp\\anaconda3\\envs\\deeplearning\\lib\\site-packages (from pandas) (2023.3)\n",
      "Requirement already satisfied: six>=1.5 in c:\\users\\hp\\anaconda3\\envs\\deeplearning\\lib\\site-packages (from python-dateutil>=2.8.2->pandas) (1.16.0)\n",
      "Requirement already satisfied: tensorflow in c:\\users\\hp\\anaconda3\\envs\\deeplearning\\lib\\site-packages (2.12.0)\n",
      "Requirement already satisfied: tensorflow-intel==2.12.0 in c:\\users\\hp\\anaconda3\\envs\\deeplearning\\lib\\site-packages (from tensorflow) (2.12.0)\n",
      "Requirement already satisfied: gast<=0.4.0,>=0.2.1 in c:\\users\\hp\\anaconda3\\envs\\deeplearning\\lib\\site-packages (from tensorflow-intel==2.12.0->tensorflow) (0.4.0)\n",
      "Requirement already satisfied: jax>=0.3.15 in c:\\users\\hp\\anaconda3\\envs\\deeplearning\\lib\\site-packages (from tensorflow-intel==2.12.0->tensorflow) (0.4.8)\n",
      "Requirement already satisfied: tensorflow-estimator<2.13,>=2.12.0 in c:\\users\\hp\\anaconda3\\envs\\deeplearning\\lib\\site-packages (from tensorflow-intel==2.12.0->tensorflow) (2.12.0)\n",
      "Requirement already satisfied: keras<2.13,>=2.12.0 in c:\\users\\hp\\anaconda3\\envs\\deeplearning\\lib\\site-packages (from tensorflow-intel==2.12.0->tensorflow) (2.12.0)\n",
      "Requirement already satisfied: typing-extensions>=3.6.6 in c:\\users\\hp\\anaconda3\\envs\\deeplearning\\lib\\site-packages (from tensorflow-intel==2.12.0->tensorflow) (4.4.0)\n",
      "Requirement already satisfied: flatbuffers>=2.0 in c:\\users\\hp\\anaconda3\\envs\\deeplearning\\lib\\site-packages (from tensorflow-intel==2.12.0->tensorflow) (23.3.3)\n",
      "Requirement already satisfied: setuptools in c:\\users\\hp\\anaconda3\\envs\\deeplearning\\lib\\site-packages (from tensorflow-intel==2.12.0->tensorflow) (65.6.3)\n",
      "Requirement already satisfied: tensorboard<2.13,>=2.12 in c:\\users\\hp\\anaconda3\\envs\\deeplearning\\lib\\site-packages (from tensorflow-intel==2.12.0->tensorflow) (2.12.1)\n",
      "Requirement already satisfied: libclang>=13.0.0 in c:\\users\\hp\\anaconda3\\envs\\deeplearning\\lib\\site-packages (from tensorflow-intel==2.12.0->tensorflow) (16.0.0)\n",
      "Requirement already satisfied: absl-py>=1.0.0 in c:\\users\\hp\\anaconda3\\envs\\deeplearning\\lib\\site-packages (from tensorflow-intel==2.12.0->tensorflow) (1.4.0)\n",
      "Requirement already satisfied: packaging in c:\\users\\hp\\anaconda3\\envs\\deeplearning\\lib\\site-packages (from tensorflow-intel==2.12.0->tensorflow) (23.0)\n",
      "Requirement already satisfied: astunparse>=1.6.0 in c:\\users\\hp\\anaconda3\\envs\\deeplearning\\lib\\site-packages (from tensorflow-intel==2.12.0->tensorflow) (1.6.3)\n",
      "Requirement already satisfied: termcolor>=1.1.0 in c:\\users\\hp\\anaconda3\\envs\\deeplearning\\lib\\site-packages (from tensorflow-intel==2.12.0->tensorflow) (2.2.0)\n",
      "Requirement already satisfied: opt-einsum>=2.3.2 in c:\\users\\hp\\anaconda3\\envs\\deeplearning\\lib\\site-packages (from tensorflow-intel==2.12.0->tensorflow) (3.3.0)\n",
      "Requirement already satisfied: google-pasta>=0.1.1 in c:\\users\\hp\\anaconda3\\envs\\deeplearning\\lib\\site-packages (from tensorflow-intel==2.12.0->tensorflow) (0.2.0)\n",
      "Requirement already satisfied: six>=1.12.0 in c:\\users\\hp\\anaconda3\\envs\\deeplearning\\lib\\site-packages (from tensorflow-intel==2.12.0->tensorflow) (1.16.0)\n",
      "Requirement already satisfied: tensorflow-io-gcs-filesystem>=0.23.1 in c:\\users\\hp\\anaconda3\\envs\\deeplearning\\lib\\site-packages (from tensorflow-intel==2.12.0->tensorflow) (0.31.0)\n",
      "Requirement already satisfied: numpy<1.24,>=1.22 in c:\\users\\hp\\anaconda3\\envs\\deeplearning\\lib\\site-packages (from tensorflow-intel==2.12.0->tensorflow) (1.23.5)\n",
      "Requirement already satisfied: grpcio<2.0,>=1.24.3 in c:\\users\\hp\\anaconda3\\envs\\deeplearning\\lib\\site-packages (from tensorflow-intel==2.12.0->tensorflow) (1.53.0)\n",
      "Requirement already satisfied: protobuf!=4.21.0,!=4.21.1,!=4.21.2,!=4.21.3,!=4.21.4,!=4.21.5,<5.0.0dev,>=3.20.3 in c:\\users\\hp\\anaconda3\\envs\\deeplearning\\lib\\site-packages (from tensorflow-intel==2.12.0->tensorflow) (4.22.1)\n",
      "Requirement already satisfied: h5py>=2.9.0 in c:\\users\\hp\\anaconda3\\envs\\deeplearning\\lib\\site-packages (from tensorflow-intel==2.12.0->tensorflow) (3.8.0)\n",
      "Requirement already satisfied: wrapt<1.15,>=1.11.0 in c:\\users\\hp\\anaconda3\\envs\\deeplearning\\lib\\site-packages (from tensorflow-intel==2.12.0->tensorflow) (1.14.1)\n",
      "Requirement already satisfied: wheel<1.0,>=0.23.0 in c:\\users\\hp\\anaconda3\\envs\\deeplearning\\lib\\site-packages (from astunparse>=1.6.0->tensorflow-intel==2.12.0->tensorflow) (0.38.4)\n",
      "Requirement already satisfied: ml-dtypes>=0.0.3 in c:\\users\\hp\\anaconda3\\envs\\deeplearning\\lib\\site-packages (from jax>=0.3.15->tensorflow-intel==2.12.0->tensorflow) (0.0.4)\n",
      "Requirement already satisfied: scipy>=1.7 in c:\\users\\hp\\anaconda3\\envs\\deeplearning\\lib\\site-packages (from jax>=0.3.15->tensorflow-intel==2.12.0->tensorflow) (1.10.1)\n",
      "Requirement already satisfied: requests<3,>=2.21.0 in c:\\users\\hp\\anaconda3\\envs\\deeplearning\\lib\\site-packages (from tensorboard<2.13,>=2.12->tensorflow-intel==2.12.0->tensorflow) (2.28.2)\n",
      "Requirement already satisfied: tensorboard-plugin-wit>=1.6.0 in c:\\users\\hp\\anaconda3\\envs\\deeplearning\\lib\\site-packages (from tensorboard<2.13,>=2.12->tensorflow-intel==2.12.0->tensorflow) (1.8.1)\n",
      "Requirement already satisfied: google-auth-oauthlib<1.1,>=0.5 in c:\\users\\hp\\anaconda3\\envs\\deeplearning\\lib\\site-packages (from tensorboard<2.13,>=2.12->tensorflow-intel==2.12.0->tensorflow) (1.0.0)\n",
      "Requirement already satisfied: google-auth<3,>=1.6.3 in c:\\users\\hp\\anaconda3\\envs\\deeplearning\\lib\\site-packages (from tensorboard<2.13,>=2.12->tensorflow-intel==2.12.0->tensorflow) (2.17.2)\n",
      "Requirement already satisfied: tensorboard-data-server<0.8.0,>=0.7.0 in c:\\users\\hp\\anaconda3\\envs\\deeplearning\\lib\\site-packages (from tensorboard<2.13,>=2.12->tensorflow-intel==2.12.0->tensorflow) (0.7.0)\n",
      "Requirement already satisfied: werkzeug>=1.0.1 in c:\\users\\hp\\anaconda3\\envs\\deeplearning\\lib\\site-packages (from tensorboard<2.13,>=2.12->tensorflow-intel==2.12.0->tensorflow) (2.2.3)\n",
      "Requirement already satisfied: markdown>=2.6.8 in c:\\users\\hp\\anaconda3\\envs\\deeplearning\\lib\\site-packages (from tensorboard<2.13,>=2.12->tensorflow-intel==2.12.0->tensorflow) (3.4.3)\n",
      "Requirement already satisfied: rsa<5,>=3.1.4 in c:\\users\\hp\\anaconda3\\envs\\deeplearning\\lib\\site-packages (from google-auth<3,>=1.6.3->tensorboard<2.13,>=2.12->tensorflow-intel==2.12.0->tensorflow) (4.9)\n",
      "Requirement already satisfied: pyasn1-modules>=0.2.1 in c:\\users\\hp\\anaconda3\\envs\\deeplearning\\lib\\site-packages (from google-auth<3,>=1.6.3->tensorboard<2.13,>=2.12->tensorflow-intel==2.12.0->tensorflow) (0.2.8)\n",
      "Requirement already satisfied: cachetools<6.0,>=2.0.0 in c:\\users\\hp\\anaconda3\\envs\\deeplearning\\lib\\site-packages (from google-auth<3,>=1.6.3->tensorboard<2.13,>=2.12->tensorflow-intel==2.12.0->tensorflow) (5.3.0)\n",
      "Requirement already satisfied: requests-oauthlib>=0.7.0 in c:\\users\\hp\\anaconda3\\envs\\deeplearning\\lib\\site-packages (from google-auth-oauthlib<1.1,>=0.5->tensorboard<2.13,>=2.12->tensorflow-intel==2.12.0->tensorflow) (1.3.1)\n",
      "Requirement already satisfied: charset-normalizer<4,>=2 in c:\\users\\hp\\anaconda3\\envs\\deeplearning\\lib\\site-packages (from requests<3,>=2.21.0->tensorboard<2.13,>=2.12->tensorflow-intel==2.12.0->tensorflow) (3.1.0)\n",
      "Requirement already satisfied: urllib3<1.27,>=1.21.1 in c:\\users\\hp\\anaconda3\\envs\\deeplearning\\lib\\site-packages (from requests<3,>=2.21.0->tensorboard<2.13,>=2.12->tensorflow-intel==2.12.0->tensorflow) (1.26.15)\n",
      "Requirement already satisfied: certifi>=2017.4.17 in c:\\users\\hp\\anaconda3\\envs\\deeplearning\\lib\\site-packages (from requests<3,>=2.21.0->tensorboard<2.13,>=2.12->tensorflow-intel==2.12.0->tensorflow) (2022.12.7)\n",
      "Requirement already satisfied: idna<4,>=2.5 in c:\\users\\hp\\anaconda3\\envs\\deeplearning\\lib\\site-packages (from requests<3,>=2.21.0->tensorboard<2.13,>=2.12->tensorflow-intel==2.12.0->tensorflow) (3.4)\n",
      "Requirement already satisfied: MarkupSafe>=2.1.1 in c:\\users\\hp\\anaconda3\\envs\\deeplearning\\lib\\site-packages (from werkzeug>=1.0.1->tensorboard<2.13,>=2.12->tensorflow-intel==2.12.0->tensorflow) (2.1.1)\n",
      "Requirement already satisfied: pyasn1<0.5.0,>=0.4.6 in c:\\users\\hp\\anaconda3\\envs\\deeplearning\\lib\\site-packages (from pyasn1-modules>=0.2.1->google-auth<3,>=1.6.3->tensorboard<2.13,>=2.12->tensorflow-intel==2.12.0->tensorflow) (0.4.8)\n",
      "Requirement already satisfied: oauthlib>=3.0.0 in c:\\users\\hp\\anaconda3\\envs\\deeplearning\\lib\\site-packages (from requests-oauthlib>=0.7.0->google-auth-oauthlib<1.1,>=0.5->tensorboard<2.13,>=2.12->tensorflow-intel==2.12.0->tensorflow) (3.2.2)\n"
     ]
    },
    {
     "name": "stdout",
     "output_type": "stream",
     "text": [
      "Requirement already satisfied: sklearn in c:\\users\\hp\\anaconda3\\envs\\deeplearning\\lib\\site-packages (0.0.post1)\n",
      "Requirement already satisfied: matplotlib in c:\\users\\hp\\anaconda3\\envs\\deeplearning\\lib\\site-packages (3.7.1)\n",
      "Requirement already satisfied: python-dateutil>=2.7 in c:\\users\\hp\\anaconda3\\envs\\deeplearning\\lib\\site-packages (from matplotlib) (2.8.2)\n",
      "Requirement already satisfied: numpy>=1.20 in c:\\users\\hp\\anaconda3\\envs\\deeplearning\\lib\\site-packages (from matplotlib) (1.23.5)\n",
      "Requirement already satisfied: packaging>=20.0 in c:\\users\\hp\\anaconda3\\envs\\deeplearning\\lib\\site-packages (from matplotlib) (23.0)\n",
      "Requirement already satisfied: contourpy>=1.0.1 in c:\\users\\hp\\anaconda3\\envs\\deeplearning\\lib\\site-packages (from matplotlib) (1.0.7)\n",
      "Requirement already satisfied: cycler>=0.10 in c:\\users\\hp\\anaconda3\\envs\\deeplearning\\lib\\site-packages (from matplotlib) (0.11.0)\n",
      "Requirement already satisfied: kiwisolver>=1.0.1 in c:\\users\\hp\\anaconda3\\envs\\deeplearning\\lib\\site-packages (from matplotlib) (1.4.4)\n",
      "Requirement already satisfied: pillow>=6.2.0 in c:\\users\\hp\\anaconda3\\envs\\deeplearning\\lib\\site-packages (from matplotlib) (9.5.0)\n",
      "Requirement already satisfied: pyparsing>=2.3.1 in c:\\users\\hp\\anaconda3\\envs\\deeplearning\\lib\\site-packages (from matplotlib) (3.0.9)\n",
      "Requirement already satisfied: fonttools>=4.22.0 in c:\\users\\hp\\anaconda3\\envs\\deeplearning\\lib\\site-packages (from matplotlib) (4.39.3)\n",
      "Requirement already satisfied: six>=1.5 in c:\\users\\hp\\anaconda3\\envs\\deeplearning\\lib\\site-packages (from python-dateutil>=2.7->matplotlib) (1.16.0)\n"
     ]
    }
   ],
   "source": [
    "#Install related libraries for the course. \n",
    "#This is a common requirement for all other exampels too\n",
    "\n",
    "!pip install pandas \n",
    "!pip install tensorflow\n",
    "!pip install sklearn\n",
    "!pip install matplotlib"
   ]
  },
  {
   "cell_type": "code",
   "execution_count": 15,
   "id": "878514a3",
   "metadata": {},
   "outputs": [
    {
     "name": "stdout",
     "output_type": "stream",
     "text": [
      "Collecting scikit-learn\n",
      "  Downloading scikit_learn-1.2.2-cp310-cp310-win_amd64.whl (8.3 MB)\n",
      "     ---------------------------------------- 0.0/8.3 MB ? eta -:--:--\n",
      "     ---------------------------------------- 0.0/8.3 MB 1.3 MB/s eta 0:00:07\n",
      "      --------------------------------------- 0.1/8.3 MB 1.1 MB/s eta 0:00:08\n",
      "      --------------------------------------- 0.1/8.3 MB 1.1 MB/s eta 0:00:08\n",
      "      --------------------------------------- 0.1/8.3 MB 1.1 MB/s eta 0:00:08\n",
      "      --------------------------------------- 0.2/8.3 MB 958.4 kB/s eta 0:00:09\n",
      "      --------------------------------------- 0.2/8.3 MB 958.4 kB/s eta 0:00:09\n",
      "      --------------------------------------- 0.2/8.3 MB 958.4 kB/s eta 0:00:09\n",
      "      --------------------------------------- 0.2/8.3 MB 958.4 kB/s eta 0:00:09\n",
      "     - -------------------------------------- 0.2/8.3 MB 580.1 kB/s eta 0:00:14\n",
      "     - -------------------------------------- 0.2/8.3 MB 580.1 kB/s eta 0:00:14\n",
      "     - -------------------------------------- 0.4/8.3 MB 737.3 kB/s eta 0:00:11\n",
      "     - -------------------------------------- 0.4/8.3 MB 737.3 kB/s eta 0:00:11\n",
      "     -- ------------------------------------- 0.5/8.3 MB 739.8 kB/s eta 0:00:11\n",
      "     -- ------------------------------------- 0.5/8.3 MB 739.8 kB/s eta 0:00:11\n",
      "     -- ------------------------------------- 0.6/8.3 MB 769.1 kB/s eta 0:00:11\n",
      "     -- ------------------------------------- 0.6/8.3 MB 769.1 kB/s eta 0:00:11\n",
      "     -- ------------------------------------- 0.6/8.3 MB 769.1 kB/s eta 0:00:11\n",
      "     -- ------------------------------------- 0.6/8.3 MB 769.1 kB/s eta 0:00:11\n",
      "     -- ------------------------------------- 0.6/8.3 MB 769.1 kB/s eta 0:00:11\n",
      "     --- ------------------------------------ 0.6/8.3 MB 688.6 kB/s eta 0:00:12\n",
      "     --- ------------------------------------ 0.6/8.3 MB 688.6 kB/s eta 0:00:12\n",
      "     --- ------------------------------------ 0.7/8.3 MB 635.0 kB/s eta 0:00:13\n",
      "     --- ------------------------------------ 0.7/8.3 MB 655.2 kB/s eta 0:00:12\n",
      "     --- ------------------------------------ 0.8/8.3 MB 682.1 kB/s eta 0:00:12\n",
      "     ---- ----------------------------------- 0.9/8.3 MB 767.8 kB/s eta 0:00:10\n",
      "     ---- ----------------------------------- 1.0/8.3 MB 829.8 kB/s eta 0:00:09\n",
      "     ----- ---------------------------------- 1.1/8.3 MB 865.5 kB/s eta 0:00:09\n",
      "     ----- ---------------------------------- 1.2/8.3 MB 886.7 kB/s eta 0:00:09\n",
      "     ----- ---------------------------------- 1.2/8.3 MB 886.7 kB/s eta 0:00:09\n",
      "     ------ --------------------------------- 1.3/8.3 MB 885.7 kB/s eta 0:00:08\n",
      "     ------ --------------------------------- 1.3/8.3 MB 885.3 kB/s eta 0:00:08\n",
      "     ------ --------------------------------- 1.3/8.3 MB 883.2 kB/s eta 0:00:08\n",
      "     ------ --------------------------------- 1.4/8.3 MB 909.6 kB/s eta 0:00:08\n",
      "     ------ --------------------------------- 1.4/8.3 MB 909.6 kB/s eta 0:00:08\n",
      "     ------- -------------------------------- 1.5/8.3 MB 907.4 kB/s eta 0:00:08\n",
      "     ------- -------------------------------- 1.5/8.3 MB 907.4 kB/s eta 0:00:08\n",
      "     ------- -------------------------------- 1.6/8.3 MB 897.6 kB/s eta 0:00:08\n",
      "     ------- -------------------------------- 1.6/8.3 MB 897.6 kB/s eta 0:00:08\n",
      "     ------- -------------------------------- 1.6/8.3 MB 888.5 kB/s eta 0:00:08\n",
      "     ------- -------------------------------- 1.6/8.3 MB 888.5 kB/s eta 0:00:08\n",
      "     -------- ------------------------------- 1.7/8.3 MB 888.1 kB/s eta 0:00:08\n",
      "     -------- ------------------------------- 1.7/8.3 MB 888.1 kB/s eta 0:00:08\n",
      "     -------- ------------------------------- 1.8/8.3 MB 880.4 kB/s eta 0:00:08\n",
      "     -------- ------------------------------- 1.8/8.3 MB 882.1 kB/s eta 0:00:08\n",
      "     --------- ------------------------------ 2.0/8.3 MB 908.7 kB/s eta 0:00:07\n",
      "     ---------- ----------------------------- 2.1/8.3 MB 950.5 kB/s eta 0:00:07\n",
      "     ---------- ----------------------------- 2.2/8.3 MB 994.7 kB/s eta 0:00:07\n",
      "     ----------- ---------------------------- 2.4/8.3 MB 1.0 MB/s eta 0:00:06\n",
      "     ----------- ---------------------------- 2.5/8.3 MB 1.1 MB/s eta 0:00:06\n",
      "     ------------ --------------------------- 2.6/8.3 MB 1.1 MB/s eta 0:00:06\n",
      "     ------------- -------------------------- 2.8/8.3 MB 1.1 MB/s eta 0:00:05\n",
      "     -------------- ------------------------- 2.9/8.3 MB 1.2 MB/s eta 0:00:05\n",
      "     -------------- ------------------------- 3.1/8.3 MB 1.2 MB/s eta 0:00:05\n",
      "     --------------- ------------------------ 3.2/8.3 MB 1.2 MB/s eta 0:00:05\n",
      "     ---------------- ----------------------- 3.3/8.3 MB 1.3 MB/s eta 0:00:04\n",
      "     ---------------- ----------------------- 3.5/8.3 MB 1.3 MB/s eta 0:00:04\n",
      "     ----------------- ---------------------- 3.6/8.3 MB 1.3 MB/s eta 0:00:04\n",
      "     ------------------ --------------------- 3.8/8.3 MB 1.4 MB/s eta 0:00:04\n",
      "     ------------------ --------------------- 3.9/8.3 MB 1.4 MB/s eta 0:00:04\n",
      "     ------------------- -------------------- 4.1/8.3 MB 1.4 MB/s eta 0:00:03\n",
      "     -------------------- ------------------- 4.2/8.3 MB 1.5 MB/s eta 0:00:03\n",
      "     --------------------- ------------------ 4.4/8.3 MB 1.5 MB/s eta 0:00:03\n",
      "     --------------------- ------------------ 4.5/8.3 MB 1.5 MB/s eta 0:00:03\n",
      "     ---------------------- ----------------- 4.7/8.3 MB 1.5 MB/s eta 0:00:03\n",
      "     ----------------------- ---------------- 4.9/8.3 MB 1.6 MB/s eta 0:00:03\n",
      "     ------------------------ --------------- 5.0/8.3 MB 1.6 MB/s eta 0:00:03\n",
      "     ------------------------- -------------- 5.2/8.3 MB 1.6 MB/s eta 0:00:02\n",
      "     ------------------------- -------------- 5.4/8.3 MB 1.7 MB/s eta 0:00:02\n",
      "     -------------------------- ------------- 5.6/8.3 MB 1.7 MB/s eta 0:00:02\n",
      "     --------------------------- ------------ 5.7/8.3 MB 1.7 MB/s eta 0:00:02\n",
      "     ---------------------------- ----------- 5.9/8.3 MB 1.7 MB/s eta 0:00:02\n",
      "     ----------------------------- ---------- 6.1/8.3 MB 1.8 MB/s eta 0:00:02\n",
      "     ------------------------------ --------- 6.3/8.3 MB 1.8 MB/s eta 0:00:02\n",
      "     ------------------------------- -------- 6.5/8.3 MB 1.8 MB/s eta 0:00:02\n",
      "     -------------------------------- ------- 6.6/8.3 MB 1.9 MB/s eta 0:00:01\n",
      "     -------------------------------- ------- 6.8/8.3 MB 1.9 MB/s eta 0:00:01\n",
      "     --------------------------------- ------ 7.0/8.3 MB 1.9 MB/s eta 0:00:01\n",
      "     ---------------------------------- ----- 7.2/8.3 MB 1.9 MB/s eta 0:00:01\n",
      "     ----------------------------------- ---- 7.4/8.3 MB 2.0 MB/s eta 0:00:01\n",
      "     ------------------------------------ --- 7.6/8.3 MB 2.0 MB/s eta 0:00:01\n",
      "     ------------------------------------- -- 7.7/8.3 MB 2.0 MB/s eta 0:00:01\n",
      "     -------------------------------------- - 8.0/8.3 MB 2.0 MB/s eta 0:00:01\n",
      "     ---------------------------------------  8.2/8.3 MB 2.1 MB/s eta 0:00:01\n",
      "     ---------------------------------------  8.3/8.3 MB 2.1 MB/s eta 0:00:01\n",
      "     ---------------------------------------- 8.3/8.3 MB 2.0 MB/s eta 0:00:00\n",
      "Requirement already satisfied: scipy>=1.3.2 in c:\\users\\hp\\anaconda3\\envs\\deeplearning\\lib\\site-packages (from scikit-learn) (1.10.1)\n",
      "Collecting joblib>=1.1.1\n",
      "  Downloading joblib-1.2.0-py3-none-any.whl (297 kB)\n",
      "     ---------------------------------------- 0.0/298.0 kB ? eta -:--:--\n",
      "     ---------------------------- --------- 225.3/298.0 kB 6.9 MB/s eta 0:00:01\n",
      "     -------------------------------------- 298.0/298.0 kB 4.6 MB/s eta 0:00:00\n",
      "Collecting threadpoolctl>=2.0.0\n",
      "  Using cached threadpoolctl-3.1.0-py3-none-any.whl (14 kB)\n",
      "Requirement already satisfied: numpy>=1.17.3 in c:\\users\\hp\\anaconda3\\envs\\deeplearning\\lib\\site-packages (from scikit-learn) (1.23.5)\n",
      "Installing collected packages: threadpoolctl, joblib, scikit-learn\n",
      "Successfully installed joblib-1.2.0 scikit-learn-1.2.2 threadpoolctl-3.1.0\n",
      "Name: scikit-learn\n",
      "Version: 1.2.2\n",
      "Summary: A set of python modules for machine learning and data mining\n",
      "Home-page: http://scikit-learn.org\n",
      "Author: \n",
      "Author-email: \n",
      "License: new BSD\n",
      "Location: c:\\users\\hp\\anaconda3\\envs\\deeplearning\\lib\\site-packages\n",
      "Requires: joblib, numpy, scipy, threadpoolctl\n",
      "Required-by: \n"
     ]
    }
   ],
   "source": [
    "!pip install scikit-learn\n",
    "!pip show scikit-learn\n",
    "\n"
   ]
  },
  {
   "cell_type": "code",
   "execution_count": 16,
   "id": "8b462a84",
   "metadata": {},
   "outputs": [
    {
     "name": "stdout",
     "output_type": "stream",
     "text": [
      "\n",
      "Loaded data :\n",
      "-----------------------------------\n",
      "\n",
      "Features before scaling :\n",
      "------------------------------------\n",
      "[[5.1 3.5 1.4 0.2]\n",
      " [4.9 3.  1.4 0.2]\n",
      " [4.7 3.2 1.3 0.2]\n",
      " [4.6 3.1 1.5 0.2]\n",
      " [5.  3.6 1.4 0.2]]\n",
      "\n",
      "Target before scaling :\n",
      "------------------------------------\n",
      "[0. 0. 0. 0. 0.]\n",
      "\n",
      "Features after scaling :\n",
      "------------------------------------\n",
      "[[-0.90068117  1.01900435 -1.34022653 -1.3154443 ]\n",
      " [-1.14301691 -0.13197948 -1.34022653 -1.3154443 ]\n",
      " [-1.38535265  0.32841405 -1.39706395 -1.3154443 ]\n",
      " [-1.50652052  0.09821729 -1.2833891  -1.3154443 ]\n",
      " [-1.02184904  1.24920112 -1.34022653 -1.3154443 ]]\n",
      "\n",
      "Target after one-hot-encoding :\n",
      "------------------------------------\n",
      "[[1. 0. 0.]\n",
      " [1. 0. 0.]\n",
      " [1. 0. 0.]\n",
      " [1. 0. 0.]\n",
      " [1. 0. 0.]]\n",
      "\n",
      "Train Test Dimensions:\n",
      "------------------------------------\n",
      "(135, 4) (135, 3) (15, 4) (15, 3)\n"
     ]
    }
   ],
   "source": [
    "import pandas as pd\n",
    "import os\n",
    "import tensorflow as tf\n",
    "import numpy as np\n",
    "from sklearn.model_selection import train_test_split\n",
    "from sklearn.preprocessing import StandardScaler\n",
    "\n",
    "#Load data and review content\n",
    "iris_data=pd.read_csv(\"iris.csv\")\n",
    "\n",
    "print(\"\\nLoaded data :\\n-----------------------------------\")\n",
    "\n",
    "#Use a Label encoder to convert String to numeric values \n",
    "#for the target variable\n",
    "from sklearn import preprocessing\n",
    "label_encoder =preprocessing.LabelEncoder()\n",
    "iris_data['Species']=label_encoder.fit_transform(iris_data['Species'])\n",
    "\n",
    "#convert input to numpy array\n",
    "np_iris = iris_data.to_numpy()\n",
    "\n",
    "#separate feature and target variables\n",
    "X_data=np_iris[:,0:4]\n",
    "Y_data=np_iris[:,4]\n",
    "\n",
    "print(\"\\nFeatures before scaling :\\n------------------------------------\")\n",
    "print(X_data[:5,:])\n",
    "print(\"\\nTarget before scaling :\\n------------------------------------\")\n",
    "print(Y_data[:5])\n",
    "\n",
    "#Create a scaler model that is fit on the input data.\n",
    "scaler = StandardScaler().fit(X_data)\n",
    "\n",
    "#Scale the numeric feature variables\n",
    "X_data = scaler.transform(X_data)\n",
    "\n",
    "#Convert target variable as a one-hot-encoding array\n",
    "Y_data = tf.keras.utils.to_categorical(Y_data,3)\n",
    "\n",
    "print(\"\\nFeatures after scaling :\\n------------------------------------\")\n",
    "print(X_data[:5,:])\n",
    "print(\"\\nTarget after one-hot-encoding :\\n------------------------------------\")\n",
    "print(Y_data[:5,:])\n",
    "\n",
    "#Split training and test data\n",
    "X_train,X_test,Y_train,Y_test = train_test_split( X_data, Y_data, test_size=0.10)\n",
    "\n",
    "print(\"\\nTrain Test Dimensions:\\n------------------------------------\")\n",
    "print(X_train.shape, Y_train.shape, X_test.shape, Y_test.shape)"
   ]
  },
  {
   "cell_type": "code",
   "execution_count": 23,
   "id": "0ee711f0",
   "metadata": {},
   "outputs": [],
   "source": [
    "Y_data=np_iris[:,4]\n",
    "y_"
   ]
  },
  {
   "cell_type": "markdown",
   "id": "db55fd2f",
   "metadata": {},
   "source": [
    "4.3. Creating a Model\n",
    "Creating a model in Keras requires defining the following\n",
    "\n",
    "Number of hidden layers\n",
    "Number of nodes in each layer\n",
    "Activation functions\n",
    "Loss Function & Accuracy measurements"
   ]
  },
  {
   "cell_type": "code",
   "execution_count": 17,
   "id": "992120c5",
   "metadata": {},
   "outputs": [
    {
     "name": "stdout",
     "output_type": "stream",
     "text": [
      "Model: \"sequential\"\n",
      "_________________________________________________________________\n",
      " Layer (type)                Output Shape              Param #   \n",
      "=================================================================\n",
      " Hidden-Layer-1 (Dense)      (None, 128)               640       \n",
      "                                                                 \n",
      " Hidden-Layer-2 (Dense)      (None, 128)               16512     \n",
      "                                                                 \n",
      " Output-Layer (Dense)        (None, 3)                 387       \n",
      "                                                                 \n",
      "=================================================================\n",
      "Total params: 17,539\n",
      "Trainable params: 17,539\n",
      "Non-trainable params: 0\n",
      "_________________________________________________________________\n"
     ]
    }
   ],
   "source": [
    "from tensorflow import keras\n",
    "#Number of classes in the target variable\n",
    "NB_CLASSES=3\n",
    "\n",
    "#Create a sequencial model in Keras\n",
    "model = tf.keras.models.Sequential()\n",
    "\n",
    "#The sequential model is a type of neural network architecture in deep learning.\n",
    "#It is a linear stack of layers where the output of one layer is passed as input to the next layer.\n",
    "#The sequential model is used for solving a variety of machine learning tasks, such as classification, regression, and time-series prediction.\n",
    "\n",
    "#Add the first hidden layer\n",
    "model.add(keras.layers.Dense(128,                    #Number of nodes\n",
    "                             input_shape=(4,),       #Number of input variables\n",
    "                              name='Hidden-Layer-1', #Logical name\n",
    "                              activation='relu'))    #activation function\n",
    "\n",
    "#Add a second hidden layer\n",
    "model.add(keras.layers.Dense(128,\n",
    "                              name='Hidden-Layer-2',\n",
    "                              activation='relu'))\n",
    "\n",
    "#Add an output layer with softmax activation\n",
    "model.add(keras.layers.Dense(NB_CLASSES,\n",
    "                             name='Output-Layer',\n",
    "                             activation='softmax'))\n",
    "\n",
    "#Compile the model with loss & metrics\n",
    "model.compile(loss='categorical_crossentropy',\n",
    "              metrics=['accuracy'])\n",
    "\n",
    "#Print the model meta-data\n",
    "model.summary()"
   ]
  },
  {
   "cell_type": "markdown",
   "id": "3f01e6d2",
   "metadata": {},
   "source": [
    "4.4. Training and evaluating the Model\n",
    "Training the model involves defining various training models and then perform forward and back propagation.\n"
   ]
  },
  {
   "cell_type": "code",
   "execution_count": 18,
   "id": "bf8fee57",
   "metadata": {},
   "outputs": [
    {
     "name": "stdout",
     "output_type": "stream",
     "text": [
      "\n",
      "Training Progress:\n",
      "------------------------------------\n",
      "Epoch 1/10\n",
      "7/7 [==============================] - 1s 51ms/step - loss: 0.8391 - accuracy: 0.7500 - val_loss: 0.5944 - val_accuracy: 0.7407\n",
      "Epoch 2/10\n",
      "7/7 [==============================] - 0s 12ms/step - loss: 0.5491 - accuracy: 0.8519 - val_loss: 0.4560 - val_accuracy: 0.7407\n",
      "Epoch 3/10\n",
      "7/7 [==============================] - 0s 8ms/step - loss: 0.4337 - accuracy: 0.8611 - val_loss: 0.3859 - val_accuracy: 0.7407\n",
      "Epoch 4/10\n",
      "7/7 [==============================] - 0s 7ms/step - loss: 0.3641 - accuracy: 0.8611 - val_loss: 0.3005 - val_accuracy: 0.8519\n",
      "Epoch 5/10\n",
      "7/7 [==============================] - 0s 8ms/step - loss: 0.3251 - accuracy: 0.8704 - val_loss: 0.2887 - val_accuracy: 0.7778\n",
      "Epoch 6/10\n",
      "7/7 [==============================] - 0s 8ms/step - loss: 0.2871 - accuracy: 0.8796 - val_loss: 0.2437 - val_accuracy: 0.8519\n",
      "Epoch 7/10\n",
      "7/7 [==============================] - 0s 8ms/step - loss: 0.2618 - accuracy: 0.8889 - val_loss: 0.2358 - val_accuracy: 0.8519\n",
      "Epoch 8/10\n",
      "7/7 [==============================] - 0s 8ms/step - loss: 0.2512 - accuracy: 0.8704 - val_loss: 0.2116 - val_accuracy: 0.9259\n",
      "Epoch 9/10\n",
      "7/7 [==============================] - 0s 8ms/step - loss: 0.2179 - accuracy: 0.8981 - val_loss: 0.1753 - val_accuracy: 0.9259\n",
      "Epoch 10/10\n",
      "7/7 [==============================] - 0s 8ms/step - loss: 0.2064 - accuracy: 0.9259 - val_loss: 0.1639 - val_accuracy: 0.9259\n",
      "\n",
      "Accuracy during Training :\n",
      "------------------------------------\n"
     ]
    },
    {
     "data": {
      "image/png": "[encoded data removed]",
      "text/plain": [
       "<Figure size 800x500 with 1 Axes>"
      ]
     },
     "metadata": {},
     "output_type": "display_data"
    },
    {
     "name": "stdout",
     "output_type": "stream",
     "text": [
      "\n",
      "Evaluation against Test Dataset :\n",
      "------------------------------------\n",
      "1/1 [==============================] - 0s 33ms/step - loss: 0.3685 - accuracy: 0.8000\n"
     ]
    },
    {
     "data": {
      "text/plain": [
       "[0.368480384349823, 0.800000011920929]"
      ]
     },
     "execution_count": 18,
     "metadata": {},
     "output_type": "execute_result"
    }
   ],
   "source": [
    "#Make it verbose so we can see the progress\n",
    "VERBOSE=1\n",
    "\n",
    "#Setup Hyper Parameters for training\n",
    "\n",
    "#Set Batch size\n",
    "BATCH_SIZE=16\n",
    "#Set number of epochs\n",
    "EPOCHS=10\n",
    "#Set validation split. 20% of the training data will be used for validation\n",
    "#after each epoch\n",
    "VALIDATION_SPLIT=0.2\n",
    "\n",
    "print(\"\\nTraining Progress:\\n------------------------------------\")\n",
    "\n",
    "#Fit the model. This will perform the entire training cycle, including\n",
    "#forward propagation, loss computation, backward propagation and gradient descent.\n",
    "#Execute for the specified batch sizes and epoch\n",
    "#Perform validation after each epoch \n",
    "history=model.fit(X_train,\n",
    "          Y_train,\n",
    "          batch_size=BATCH_SIZE,\n",
    "          epochs=EPOCHS,\n",
    "          verbose=VERBOSE,\n",
    "          validation_split=VALIDATION_SPLIT)\n",
    "\n",
    "print(\"\\nAccuracy during Training :\\n------------------------------------\")\n",
    "import matplotlib.pyplot as plt\n",
    "\n",
    "#Plot accuracy of the model after each epoch.\n",
    "pd.DataFrame(history.history)[\"accuracy\"].plot(figsize=(8, 5))\n",
    "plt.title(\"Accuracy improvements with Epoch\")\n",
    "plt.show()\n",
    "\n",
    "#Evaluate the model against the test dataset and print results\n",
    "print(\"\\nEvaluation against Test Dataset :\\n------------------------------------\")\n",
    "model.evaluate(X_test,Y_test)"
   ]
  },
  {
   "cell_type": "markdown",
   "id": "3f39f3bb",
   "metadata": {},
   "source": [
    "4.5. Saving and Loading Models\n",
    "The training and inference environments are usually separate. Models need to be saved after they are validated. They are then loaded into the inference environments for actual prediction"
   ]
  },
  {
   "cell_type": "code",
   "execution_count": 24,
   "id": "20769c38",
   "metadata": {},
   "outputs": [
    {
     "name": "stderr",
     "output_type": "stream",
     "text": [
      "WARNING:absl:Function `_wrapped_model` contains input name(s) Hidden-Layer-1_input with unsupported characters which will be renamed to hidden_layer_1_input in the SavedModel.\n",
      "WARNING:absl:`Hidden-Layer-1_input` is not a valid tf.function parameter name. Sanitizing to `Hidden_Layer_1_input`.\n",
      "WARNING:absl:`Hidden-Layer-1_input` is not a valid tf.function parameter name. Sanitizing to `Hidden_Layer_1_input`.\n",
      "WARNING:absl:Found untraced functions such as _update_step_xla while saving (showing 1 of 1). These functions will not be directly callable after loading.\n"
     ]
    },
    {
     "name": "stdout",
     "output_type": "stream",
     "text": [
      "INFO:tensorflow:Assets written to: iris_save_mine\\assets\n"
     ]
    },
    {
     "name": "stderr",
     "output_type": "stream",
     "text": [
      "INFO:tensorflow:Assets written to: iris_save_mine\\assets\n"
     ]
    },
    {
     "name": "stdout",
     "output_type": "stream",
     "text": [
      "Model: \"sequential\"\n",
      "_________________________________________________________________\n",
      " Layer (type)                Output Shape              Param #   \n",
      "=================================================================\n",
      " Hidden-Layer-1 (Dense)      (None, 128)               640       \n",
      "                                                                 \n",
      " Hidden-Layer-2 (Dense)      (None, 128)               16512     \n",
      "                                                                 \n",
      " Output-Layer (Dense)        (None, 3)                 387       \n",
      "                                                                 \n",
      "=================================================================\n",
      "Total params: 17,539\n",
      "Trainable params: 17,539\n",
      "Non-trainable params: 0\n",
      "_________________________________________________________________\n"
     ]
    }
   ],
   "source": [
    "#Saving a model\n",
    "    \n",
    "model.save(\"iris_save_mine\")\n",
    "    \n",
    "#Loading a Model \n",
    "loaded_model = keras.models.load_model(\"iris_save_mine\")\n",
    "\n",
    "#Print Model Summary\n",
    "loaded_model.summary()\n"
   ]
  },
  {
   "cell_type": "markdown",
   "id": "ff8e7a42",
   "metadata": {},
   "source": [
    "4.6. Predictions with Deep Learning Models\n"
   ]
  },
  {
   "cell_type": "code",
   "execution_count": 25,
   "id": "30e56a1e",
   "metadata": {},
   "outputs": [
    {
     "name": "stdout",
     "output_type": "stream",
     "text": [
      "1/1 [==============================] - 0s 22ms/step\n",
      "Raw Prediction Output (Probabilities) : [[0.02866332 0.64473367 0.3266029 ]]\n",
      "Prediction is  ['versicolor']\n"
     ]
    }
   ],
   "source": [
    "#Raw prediction data\n",
    "prediction_input = [[6.6, 3. , 4.4, 1.4]]\n",
    "\n",
    "#Scale prediction data with the same scaling model\n",
    "scaled_input = scaler.transform(prediction_input)\n",
    "\n",
    "#Get raw prediction probabilities\n",
    "raw_prediction = model.predict(scaled_input)\n",
    "print(\"Raw Prediction Output (Probabilities) :\" , raw_prediction)\n",
    "\n",
    "#Find prediction\n",
    "prediction = np.argmax(raw_prediction)\n",
    "print(\"Prediction is \", label_encoder.inverse_transform([prediction]))\n",
    "\n"
   ]
  },
  {
   "cell_type": "code",
   "execution_count": null,
   "id": "3853c87d",
   "metadata": {},
   "outputs": [],
   "source": []
  }
 ],
 "metadata": {
  "kernelspec": {
   "display_name": "Python 3 (ipykernel)",
   "language": "python",
   "name": "python3"
  },
  "language_info": {
   "codemirror_mode": {
    "name": "ipython",
    "version": 3
   },
   "file_extension": ".py",
   "mimetype": "text/x-python",
   "name": "python",
   "nbconvert_exporter": "python",
   "pygments_lexer": "ipython3",
   "version": "3.10.10"
  }
 },
 "nbformat": 4,
 "nbformat_minor": 5
}
