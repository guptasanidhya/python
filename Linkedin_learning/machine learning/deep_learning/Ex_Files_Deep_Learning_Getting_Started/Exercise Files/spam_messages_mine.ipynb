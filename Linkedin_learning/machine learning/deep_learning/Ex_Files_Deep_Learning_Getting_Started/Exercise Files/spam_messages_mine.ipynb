{
 "cells": [
  {
   "cell_type": "markdown",
   "id": "e76e6034",
   "metadata": {},
   "source": [
    "# 5.1. Setup\n",
    "Install required text processing libraries for the example"
   ]
  },
  {
   "cell_type": "code",
   "execution_count": 1,
   "id": "74b277d1",
   "metadata": {},
   "outputs": [
    {
     "name": "stdout",
     "output_type": "stream",
     "text": [
      "Collecting nltk\n",
      "  Downloading nltk-3.8.1-py3-none-any.whl (1.5 MB)\n",
      "     ---------------------------------------- 0.0/1.5 MB ? eta -:--:--\n",
      "     -- ------------------------------------- 0.1/1.5 MB 2.2 MB/s eta 0:00:01\n",
      "     ------- -------------------------------- 0.3/1.5 MB 2.8 MB/s eta 0:00:01\n",
      "     ---------------- ----------------------- 0.6/1.5 MB 4.3 MB/s eta 0:00:01\n",
      "     -------------------------- ------------- 1.0/1.5 MB 5.3 MB/s eta 0:00:01\n",
      "     ------------------------------- -------- 1.2/1.5 MB 5.0 MB/s eta 0:00:01\n",
      "     ---------------------------------- ----- 1.3/1.5 MB 4.9 MB/s eta 0:00:01\n",
      "     ------------------------------------- -- 1.4/1.5 MB 4.5 MB/s eta 0:00:01\n",
      "     ---------------------------------------- 1.5/1.5 MB 4.0 MB/s eta 0:00:00\n",
      "Collecting click\n",
      "  Using cached click-8.1.3-py3-none-any.whl (96 kB)\n",
      "Requirement already satisfied: joblib in c:\\users\\hp\\anaconda3\\envs\\deeplearning\\lib\\site-packages (from nltk) (1.2.0)\n",
      "Collecting tqdm\n",
      "  Downloading tqdm-4.65.0-py3-none-any.whl (77 kB)\n",
      "     ---------------------------------------- 0.0/77.1 kB ? eta -:--:--\n",
      "     ---------------------------------------- 77.1/77.1 kB 4.2 MB/s eta 0:00:00\n",
      "Collecting regex>=2021.8.3\n",
      "  Downloading regex-2023.3.23-cp310-cp310-win_amd64.whl (267 kB)\n",
      "     ---------------------------------------- 0.0/267.9 kB ? eta -:--:--\n",
      "     ------------------------------------- 267.9/267.9 kB 16.1 MB/s eta 0:00:00\n",
      "Requirement already satisfied: colorama in c:\\users\\hp\\anaconda3\\envs\\deeplearning\\lib\\site-packages (from click->nltk) (0.4.6)\n",
      "Installing collected packages: tqdm, regex, click, nltk\n",
      "Successfully installed click-8.1.3 nltk-3.8.1 regex-2023.3.23 tqdm-4.65.0\n"
     ]
    },
    {
     "name": "stderr",
     "output_type": "stream",
     "text": [
      "[nltk_data] Downloading package stopwords to\n",
      "[nltk_data]     C:\\Users\\HP\\AppData\\Roaming\\nltk_data...\n",
      "[nltk_data]   Unzipping corpora\\stopwords.zip.\n",
      "[nltk_data] Downloading package punkt to\n",
      "[nltk_data]     C:\\Users\\HP\\AppData\\Roaming\\nltk_data...\n",
      "[nltk_data]   Unzipping tokenizers\\punkt.zip.\n",
      "[nltk_data] Downloading package wordnet to\n",
      "[nltk_data]     C:\\Users\\HP\\AppData\\Roaming\\nltk_data...\n"
     ]
    }
   ],
   "source": [
    "!pip install nltk\n",
    "\n",
    "import nltk\n",
    "\n",
    "nltk.download('stopwords')\n",
    "nltk.download('punkt')\n",
    "\n",
    "from nltk.corpus import stopwords\n",
    "\n",
    "nltk.download('wordnet')\n",
    "from nltk.stem import WordNetLemmatizer\n",
    "lemmatizer = WordNetLemmatizer()"
   ]
  },
  {
   "cell_type": "markdown",
   "id": "2fb11434",
   "metadata": {},
   "source": [
    "5.2. Creating Text Representations¶\n",
    "Text data needs to be converted to numeric representations before they can be used to train deep learning models. The Spam classification feature data is converted to TF-IDF vectors and the target variable is converted to one-hot encoding.\n"
   ]
  },
  {
   "cell_type": "code",
   "execution_count": 2,
   "id": "ef834977",
   "metadata": {},
   "outputs": [
    {
     "name": "stdout",
     "output_type": "stream",
     "text": [
      "\n",
      "Loaded Data :\n",
      "------------------------------------\n",
      "  CLASS                                                SMS\n",
      "0   ham   said kiss, kiss, i can't do the sound effects...\n",
      "1   ham      &lt;#&gt; ISH MINUTES WAS 5 MINUTES AGO. WTF.\n",
      "2  spam  (Bank of Granite issues Strong-Buy) EXPLOSIVE ...\n",
      "3  spam  * FREE* POLYPHONIC RINGTONE Text SUPER to 8713...\n",
      "4  spam  **FREE MESSAGE**Thanks for using the Auction S...\n"
     ]
    }
   ],
   "source": [
    "import pandas as pd\n",
    "import os\n",
    "import numpy as np\n",
    "from sklearn.model_selection import train_test_split\n",
    "from sklearn.preprocessing import scale\n",
    "\n",
    "#Load Spam Data and review content\n",
    "spam_data = pd.read_csv(\"Spam-Classification.csv\")\n",
    "\n",
    "print(\"\\nLoaded Data :\\n------------------------------------\")\n",
    "print(spam_data.head())\n",
    "\n",
    "#Separate feature and target data\n",
    "spam_classes_raw = spam_data[\"CLASS\"]\n",
    "spam_messages = spam_data[\"SMS\"]\n",
    "\n"
   ]
  },
  {
   "cell_type": "code",
   "execution_count": 3,
   "id": "3a82d813",
   "metadata": {},
   "outputs": [
    {
     "name": "stderr",
     "output_type": "stream",
     "text": [
      "C:\\Users\\HP\\anaconda3\\envs\\deeplearning\\lib\\site-packages\\sklearn\\feature_extraction\\text.py:528: UserWarning: The parameter 'token_pattern' will not be used since 'tokenizer' is not None'\n",
      "  warnings.warn(\n"
     ]
    },
    {
     "name": "stdout",
     "output_type": "stream",
     "text": [
      "TF-IDF Matrix Shape :  (1500, 4566)\n",
      "One-hot Encoding Shape :  (1500, 2)\n"
     ]
    }
   ],
   "source": [
    "\n",
    "import nltk\n",
    "import tensorflow as tf\n",
    "\n",
    "#Custom tokenizer to remove stopwords and use lemmatization\n",
    "def customtokenize(str):\n",
    "    #Split string as tokens\n",
    "    tokens=nltk.word_tokenize(str)\n",
    "    #Filter for stopwords\n",
    "    nostop = list(filter(lambda token: token not in stopwords.words('english'), tokens))\n",
    "    #Perform lemmatization\n",
    "    lemmatized=[lemmatizer.lemmatize(word) for word in nostop ]\n",
    "    return lemmatized\n",
    "\n",
    "from sklearn.feature_extraction.text import TfidfVectorizer\n",
    "\n",
    "#Build a TF-IDF Vectorizer model\n",
    "vectorizer = TfidfVectorizer(tokenizer=customtokenize)\n",
    "\n",
    "#Transform feature input to TF-IDF\n",
    "tfidf=vectorizer.fit_transform(spam_messages)\n",
    "#Convert TF-IDF to numpy array\n",
    "tfidf_array = tfidf.toarray()\n",
    "\n",
    "#Build a label encoder for target variable to convert strings to numeric values.\n",
    "from sklearn import preprocessing\n",
    "label_encoder = preprocessing.LabelEncoder()\n",
    "spam_classes = label_encoder.fit_transform(\n",
    "                                spam_classes_raw)\n",
    "\n",
    "#Convert target to one-hot encoding vector\n",
    "spam_classes = tf.keras.utils.to_categorical(spam_classes,2)\n",
    "\n",
    "print(\"TF-IDF Matrix Shape : \", tfidf.shape)\n",
    "print(\"One-hot Encoding Shape : \", spam_classes.shape)\n",
    "\n",
    "X_train,X_test,Y_train,Y_test = train_test_split( tfidf_array, spam_classes, test_size=0.10)\n"
   ]
  },
  {
   "cell_type": "markdown",
   "id": "874f6db9",
   "metadata": {},
   "source": [
    "5.3. Building and Evaluating the Model"
   ]
  },
  {
   "cell_type": "code",
   "execution_count": 4,
   "id": "cd9f7692",
   "metadata": {},
   "outputs": [
    {
     "name": "stdout",
     "output_type": "stream",
     "text": [
      "Model: \"sequential\"\n",
      "_________________________________________________________________\n",
      " Layer (type)                Output Shape              Param #   \n",
      "=================================================================\n",
      " Hidden-Layer-1 (Dense)      (None, 32)                146144    \n",
      "                                                                 \n",
      " Hidden-Layer-2 (Dense)      (None, 32)                1056      \n",
      "                                                                 \n",
      " Output-Layer (Dense)        (None, 2)                 66        \n",
      "                                                                 \n",
      "=================================================================\n",
      "Total params: 147,266\n",
      "Trainable params: 147,266\n",
      "Non-trainable params: 0\n",
      "_________________________________________________________________\n"
     ]
    }
   ],
   "source": [
    "from tensorflow import keras\n",
    "from tensorflow.keras import optimizers\n",
    "from tensorflow.keras.regularizers import l2\n",
    "\n",
    "#Setup Hyper Parameters for building the model\n",
    "NB_CLASSES=2\n",
    "N_HIDDEN=32\n",
    "\n",
    "model = tf.keras.models.Sequential()\n",
    "\n",
    "model.add(keras.layers.Dense(N_HIDDEN,\n",
    "                             input_shape=(X_train.shape[1],),\n",
    "                              name='Hidden-Layer-1',\n",
    "                              activation='relu'))\n",
    "\n",
    "model.add(keras.layers.Dense(N_HIDDEN,\n",
    "                              name='Hidden-Layer-2',\n",
    "                              activation='relu'))\n",
    "\n",
    "model.add(keras.layers.Dense(NB_CLASSES,\n",
    "                             name='Output-Layer',\n",
    "                             activation='softmax'))\n",
    "\n",
    "model.compile(loss='categorical_crossentropy',\n",
    "              metrics=['accuracy'])\n",
    "\n",
    "model.summary()\n"
   ]
  },
  {
   "cell_type": "code",
   "execution_count": 5,
   "id": "77e3e355",
   "metadata": {},
   "outputs": [
    {
     "name": "stdout",
     "output_type": "stream",
     "text": [
      "\n",
      "Training Progress:\n",
      "------------------------------------\n",
      "Epoch 1/10\n",
      "5/5 [==============================] - 1s 65ms/step - loss: 0.6892 - accuracy: 0.6343 - val_loss: 0.6794 - val_accuracy: 0.7889\n",
      "Epoch 2/10\n",
      "5/5 [==============================] - 0s 16ms/step - loss: 0.6666 - accuracy: 0.8769 - val_loss: 0.6523 - val_accuracy: 0.8852\n",
      "Epoch 3/10\n",
      "5/5 [==============================] - 0s 14ms/step - loss: 0.6290 - accuracy: 0.9500 - val_loss: 0.6129 - val_accuracy: 0.9444\n",
      "Epoch 4/10\n",
      "5/5 [==============================] - 0s 14ms/step - loss: 0.5834 - accuracy: 0.9639 - val_loss: 0.5714 - val_accuracy: 0.9519\n",
      "Epoch 5/10\n",
      "5/5 [==============================] - 0s 16ms/step - loss: 0.5317 - accuracy: 0.9685 - val_loss: 0.5320 - val_accuracy: 0.9556\n",
      "Epoch 6/10\n",
      "5/5 [==============================] - 0s 15ms/step - loss: 0.4780 - accuracy: 0.9815 - val_loss: 0.4833 - val_accuracy: 0.9556\n",
      "Epoch 7/10\n",
      "5/5 [==============================] - 0s 15ms/step - loss: 0.4215 - accuracy: 0.9861 - val_loss: 0.4349 - val_accuracy: 0.9556\n",
      "Epoch 8/10\n",
      "5/5 [==============================] - 0s 14ms/step - loss: 0.3664 - accuracy: 0.9880 - val_loss: 0.3915 - val_accuracy: 0.9593\n",
      "Epoch 9/10\n",
      "5/5 [==============================] - 0s 14ms/step - loss: 0.3159 - accuracy: 0.9880 - val_loss: 0.3528 - val_accuracy: 0.9630\n",
      "Epoch 10/10\n",
      "5/5 [==============================] - 0s 14ms/step - loss: 0.2700 - accuracy: 0.9917 - val_loss: 0.3192 - val_accuracy: 0.9593\n",
      "\n",
      "Accuracy during Training :\n",
      "------------------------------------\n"
     ]
    },
    {
     "data": {
      "image/png": "[encoded data removed]",
      "text/plain": [
       "<Figure size 800x500 with 1 Axes>"
      ]
     },
     "metadata": {},
     "output_type": "display_data"
    },
    {
     "name": "stdout",
     "output_type": "stream",
     "text": [
      "\n",
      "Evaluation against Test Dataset :\n",
      "------------------------------------\n",
      "5/5 [==============================] - 0s 3ms/step - loss: 0.3246 - accuracy: 0.9400\n"
     ]
    },
    {
     "data": {
      "text/plain": [
       "[0.3246169984340668, 0.9399999976158142]"
      ]
     },
     "execution_count": 5,
     "metadata": {},
     "output_type": "execute_result"
    }
   ],
   "source": [
    "#Make it verbose so we can see the progress\n",
    "VERBOSE=1\n",
    "\n",
    "#Setup Hyper Parameters for training\n",
    "BATCH_SIZE=256\n",
    "EPOCHS=10\n",
    "VALIDATION_SPLIT=0.2\n",
    "\n",
    "print(\"\\nTraining Progress:\\n------------------------------------\")\n",
    "\n",
    "history=model.fit(X_train,\n",
    "          Y_train,\n",
    "          batch_size=BATCH_SIZE,\n",
    "          epochs=EPOCHS,\n",
    "          verbose=VERBOSE,\n",
    "          validation_split=VALIDATION_SPLIT)\n",
    "\n",
    "print(\"\\nAccuracy during Training :\\n------------------------------------\")\n",
    "import matplotlib.pyplot as plt\n",
    "\n",
    "pd.DataFrame(history.history)[\"accuracy\"].plot(figsize=(8, 5))\n",
    "plt.title(\"Accuracy improvements with Epoch\")\n",
    "plt.show()\n",
    "\n",
    "print(\"\\nEvaluation against Test Dataset :\\n------------------------------------\")\n",
    "model.evaluate(X_test,Y_test)"
   ]
  },
  {
   "cell_type": "markdown",
   "id": "af0f0815",
   "metadata": {},
   "source": [
    "5.4. Predicting for Text"
   ]
  },
  {
   "cell_type": "code",
   "execution_count": 10,
   "id": "5991f66b",
   "metadata": {},
   "outputs": [
    {
     "name": "stdout",
     "output_type": "stream",
     "text": [
      "(2, 4566)\n",
      "1/1 [==============================] - 0s 21ms/step\n",
      "Prediction Output: [0 1]\n",
      "Prediction Classes are  ['ham' 'spam']\n"
     ]
    }
   ],
   "source": [
    "#Predict for multiple samples using batch processing\n",
    "\n",
    "#Convert input into IF-IDF vector using the same vectorizer model\n",
    "predict_tfidf=vectorizer.transform([\"Kiss me\",\n",
    "                                    \"free gift from ajio\"]).toarray()\n",
    "\n",
    "print(predict_tfidf.shape)\n",
    "\n",
    "#Predict using model\n",
    "prediction=np.argmax( model.predict(predict_tfidf), axis=1 )\n",
    "print(\"Prediction Output:\" , prediction)\n",
    "\n",
    "#Print prediction classes\n",
    "print(\"Prediction Classes are \", label_encoder.inverse_transform(prediction))"
   ]
  },
  {
   "cell_type": "code",
   "execution_count": 7,
   "id": "0728d9c8",
   "metadata": {},
   "outputs": [
    {
     "name": "stderr",
     "output_type": "stream",
     "text": [
      "WARNING:absl:Function `_wrapped_model` contains input name(s) Hidden-Layer-1_input with unsupported characters which will be renamed to hidden_layer_1_input in the SavedModel.\n",
      "WARNING:absl:`Hidden-Layer-1_input` is not a valid tf.function parameter name. Sanitizing to `Hidden_Layer_1_input`.\n",
      "WARNING:absl:`Hidden-Layer-1_input` is not a valid tf.function parameter name. Sanitizing to `Hidden_Layer_1_input`.\n",
      "WARNING:absl:`Hidden-Layer-1_input` is not a valid tf.function parameter name. Sanitizing to `Hidden_Layer_1_input`.\n",
      "WARNING:absl:Found untraced functions such as _update_step_xla while saving (showing 1 of 1). These functions will not be directly callable after loading.\n"
     ]
    },
    {
     "name": "stdout",
     "output_type": "stream",
     "text": [
      "INFO:tensorflow:Assets written to: spam_save\\assets\n"
     ]
    },
    {
     "name": "stderr",
     "output_type": "stream",
     "text": [
      "INFO:tensorflow:Assets written to: spam_save\\assets\n"
     ]
    },
    {
     "name": "stdout",
     "output_type": "stream",
     "text": [
      "Model: \"sequential\"\n",
      "_________________________________________________________________\n",
      " Layer (type)                Output Shape              Param #   \n",
      "=================================================================\n",
      " Hidden-Layer-1 (Dense)      (None, 32)                146144    \n",
      "                                                                 \n",
      " Hidden-Layer-2 (Dense)      (None, 32)                1056      \n",
      "                                                                 \n",
      " Output-Layer (Dense)        (None, 2)                 66        \n",
      "                                                                 \n",
      "=================================================================\n",
      "Total params: 147,266\n",
      "Trainable params: 147,266\n",
      "Non-trainable params: 0\n",
      "_________________________________________________________________\n"
     ]
    }
   ],
   "source": [
    "#Saving a model\n",
    "    \n",
    "model.save(\"spam_save\")\n",
    "    \n",
    "#Loading a Model \n",
    "loaded_model = keras.models.load_model(\"spam_save\")\n",
    "\n",
    "#Print Model Summary\n",
    "loaded_model.summary()"
   ]
  }
 ],
 "metadata": {
  "kernelspec": {
   "display_name": "Python 3 (ipykernel)",
   "language": "python",
   "name": "python3"
  },
  "language_info": {
   "codemirror_mode": {
    "name": "ipython",
    "version": 3
   },
   "file_extension": ".py",
   "mimetype": "text/x-python",
   "name": "python",
   "nbconvert_exporter": "python",
   "pygments_lexer": "ipython3",
   "version": "3.10.10"
  }
 },
 "nbformat": 4,
 "nbformat_minor": 5
}
